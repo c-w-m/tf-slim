{
 "cells": [
  {
   "cell_type": "markdown",
   "id": "f7a8f505-b173-49e7-b885-8b53a14700dc",
   "metadata": {},
   "source": [
    "# [mnist_slim.py](https://gist.github.com/terasakisatoshi/49fa3366b428d732c0792255ae49a2a5)"
   ]
  },
  {
   "cell_type": "code",
   "execution_count": 1,
   "id": "1d9b98cd-fc93-4d5b-8b91-f72e4a550e48",
   "metadata": {},
   "outputs": [
    {
     "ename": "ModuleNotFoundError",
     "evalue": "No module named 'tensorflow.contrib'",
     "output_type": "error",
     "traceback": [
      "\u001b[0;31m---------------------------------------------------------------------------\u001b[0m",
      "\u001b[0;31mModuleNotFoundError\u001b[0m                       Traceback (most recent call last)",
      "\u001b[0;32m<ipython-input-1-791e886c148f>\u001b[0m in \u001b[0;36m<module>\u001b[0;34m\u001b[0m\n\u001b[1;32m      5\u001b[0m \u001b[0;34m\u001b[0m\u001b[0m\n\u001b[1;32m      6\u001b[0m \u001b[0;32mimport\u001b[0m \u001b[0mtensorflow\u001b[0m \u001b[0;32mas\u001b[0m \u001b[0mtf\u001b[0m\u001b[0;34m\u001b[0m\u001b[0;34m\u001b[0m\u001b[0m\n\u001b[0;32m----> 7\u001b[0;31m \u001b[0;32mimport\u001b[0m \u001b[0mtensorflow\u001b[0m\u001b[0;34m.\u001b[0m\u001b[0mcontrib\u001b[0m\u001b[0;34m.\u001b[0m\u001b[0mslim\u001b[0m \u001b[0;32mas\u001b[0m \u001b[0mslim\u001b[0m\u001b[0;34m\u001b[0m\u001b[0;34m\u001b[0m\u001b[0m\n\u001b[0m\u001b[1;32m      8\u001b[0m \u001b[0;32mfrom\u001b[0m \u001b[0mtensorflow\u001b[0m\u001b[0;34m.\u001b[0m\u001b[0mexamples\u001b[0m\u001b[0;34m.\u001b[0m\u001b[0mtutorials\u001b[0m\u001b[0;34m.\u001b[0m\u001b[0mmnist\u001b[0m \u001b[0;32mimport\u001b[0m \u001b[0minput_data\u001b[0m\u001b[0;34m\u001b[0m\u001b[0;34m\u001b[0m\u001b[0m\n\u001b[1;32m      9\u001b[0m \u001b[0;32mfrom\u001b[0m \u001b[0mcontextlib\u001b[0m \u001b[0;32mimport\u001b[0m \u001b[0mExitStack\u001b[0m\u001b[0;34m\u001b[0m\u001b[0;34m\u001b[0m\u001b[0m\n",
      "\u001b[0;31mModuleNotFoundError\u001b[0m: No module named 'tensorflow.contrib'"
     ]
    }
   ],
   "source": [
    "\"\"\"\n",
    "Exercise for tensorflow.contrib.slim\n",
    "model Reference:http://arakan-pgm-ai.hatenablog.com/entry/2017/11/23/080000\n",
    "\"\"\"\n",
    "\n",
    "import tensorflow as tf\n",
    "import tensorflow.contrib.slim as slim\n",
    "from tensorflow.examples.tutorials.mnist import input_data\n",
    "from contextlib import ExitStack\n",
    "\n",
    "\n",
    "def model(x_image):\n",
    "    with ExitStack() as stack:\n",
    "        c1 = stack.enter_context(slim.arg_scope([slim.conv2d, slim.fully_connected],\n",
    "                                                activation_fn=tf.nn.relu,\n",
    "                                                weights_initializer=tf.truncated_normal_initializer(\n",
    "                                                    stddev=0.1),\n",
    "                                                biases_initializer=tf.constant_initializer(0.1)))\n",
    "        c2 = stack.enter_context(slim.arg_scope([slim.max_pool2d],\n",
    "                                                padding=\"SAME\"))\n",
    "        h_conv1 = slim.conv2d(x_image, 32, [5, 5])\n",
    "        h_pool1 = slim.max_pool2d(h_conv1, [2, 2])\n",
    "\n",
    "        h_conv2 = slim.conv2d(h_pool1, 64, [5, 5])\n",
    "        h_pool2 = slim.max_pool2d(h_conv2, [2, 2])\n",
    "\n",
    "        h_pool2_flat = slim.flatten(h_pool2)\n",
    "        h_fc1 = slim.fully_connected(h_pool2_flat, 1024)\n",
    "\n",
    "        y_conv = slim.fully_connected(h_fc1, 10, activation_fn=None)\n",
    "\n",
    "    return y_conv\n",
    "\n",
    "\n",
    "def calc_accuracy(y_, y_conv):\n",
    "    correct_prediction = tf.equal(tf.argmax(y_conv, 1), tf.argmax(y_, 1))\n",
    "    return tf.reduce_mean(tf.cast(correct_prediction, tf.float32))\n",
    "\n",
    "\n",
    "def main():\n",
    "    mnist = input_data.read_data_sets(\"data/\", one_hot=True)\n",
    "    x = tf.placeholder(tf.float32, shape=[None, 784])\n",
    "    y_ = tf.placeholder(tf.float32, shape=[None, 10])\n",
    "    x_image = tf.reshape(x, [-1, 28, 28, 1])\n",
    "    y = model(x_image)\n",
    "    loss = tf.losses.softmax_cross_entropy(y_, y)\n",
    "    optimizer = tf.train.AdamOptimizer(1e-4)\n",
    "    train_step = optimizer.minimize(loss)\n",
    "    accuracy = calc_accuracy(y_, y)\n",
    "    with tf.Session() as sess:\n",
    "        sess.run(tf.global_variables_initializer())\n",
    "        for i in range(1000):\n",
    "            batch = mnist.train.next_batch(100)\n",
    "            if i % 100 == 0:\n",
    "                train_accuracy = sess.run(\n",
    "                    accuracy, feed_dict={x: batch[0], y_: batch[1]})\n",
    "                print(train_accuracy)\n",
    "            sess.run(train_step, feed_dict={x: batch[0], y_: batch[1]})\n",
    "\n",
    "\n",
    "if __name__ == '__main__':\n",
    "    main()"
   ]
  },
  {
   "cell_type": "code",
   "execution_count": null,
   "id": "5af81662-f298-42f4-9afa-0d3fa21d0820",
   "metadata": {},
   "outputs": [],
   "source": []
  }
 ],
 "metadata": {
  "kernelspec": {
   "display_name": "tf-slim38",
   "language": "python",
   "name": "tf-slim38"
  },
  "language_info": {
   "codemirror_mode": {
    "name": "ipython",
    "version": 3
   },
   "file_extension": ".py",
   "mimetype": "text/x-python",
   "name": "python",
   "nbconvert_exporter": "python",
   "pygments_lexer": "ipython3",
   "version": "3.8.9"
  }
 },
 "nbformat": 4,
 "nbformat_minor": 5
}
