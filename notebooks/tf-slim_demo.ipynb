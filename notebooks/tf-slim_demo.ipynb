{
 "cells": [
  {
   "cell_type": "markdown",
   "id": "d592759d-f1bc-4d1b-93e9-5f4c1a789cd8",
   "metadata": {},
   "source": [
    "simple demo (WIP) to see if the package loads"
   ]
  },
  {
   "cell_type": "code",
   "execution_count": null,
   "id": "a6e5ff21-681a-4121-8028-c1dd701e25d3",
   "metadata": {},
   "outputs": [],
   "source": [
    "import tf_slim as slim"
   ]
  },
  {
   "cell_type": "markdown",
   "id": "61656159-8795-4021-b026-df6a545a41d9",
   "metadata": {},
   "source": [
    "# [TensorFlow official links and examples](https://deeplearning.lipingyang.org/tensorflow-examples1/)\n",
    "\n",
    "## TensorFlow-Slim\n",
    "\n",
    "TF-Slim is a lightweight library for *defining, training and evaluating complex models in TensorFlow*. Components of tf-slim can be freely mixed with native tensorflow, as well as other frameworks, such as tf.contrib.learn.\n",
    "\n",
    "#### Usage\n",
    "```python\n",
    "import tensorflow.contrib.slim as slim\n",
    "```\n",
    "\n",
    "#### Why TF-Slim?\n",
    "\n",
    "TF-Slim is a library that makes building, training and evaluation neural networks simple:\n",
    "\n",
    "* Allows the user to define models much more compactly by eliminating boilerplate code. This is accomplished through the use of argument scoping and numerous high level layers and variables. These tools increase readability and maintainability, reduce the likelihood of an error from copy-and-pasting hyperparameter values and simplifies hyperparameter tuning.\n",
    "* Makes developing models simple by providing commonly used regularizers.\n",
    "* Several widely used computer vision models (e.g., VGG, AlexNet) have been developed in slim, and are available to users. These can either be used as black boxes, or can be extended in various ways, e.g., by adding “multiple heads” to different internal layers.\n",
    "* Slim makes it easy to extend complex models, and to warm start training algorithms by using pieces of pre-existing model checkpoints.\n",
    "\n",
    "* TensorFlow-Slim image classification library\n",
    "\n",
    "TF-slim is a new lightweight high-level API of TensorFlow (tensorflow.contrib.slim) for defining, training and evaluating complex models. This directory contains code for training and evaluating several widely used Convolutional Neural Network (CNN) image classification models using TF-slim. It contains scripts that will allow you to train models from scratch or fine-tune them from pre-trained network weights. It also contains code for downloading standard image datasets, converting them to TensorFlow’s native TFRecord format and reading them in using TF-Slim’s data reading and queueing utilities. You can easily train any model on any of these datasets, as we demonstrate below. We’ve also included a jupyter notebook, which provides working examples of how to use TF-Slim for image classification.\n",
    "\n",
    "* Installation and setup\n",
    "* Preparing the datasets\n",
    "* Using pre-trained models\n",
    "* Training from scratch\n",
    "\n",
    "This process may take several days, depending on your hardware setup. For convenience, we provide a way to  See model_deploy for details about how to train a model on multiple GPUs, and/or multiple CPUs, either synchrononously or asynchronously.        \n",
    "\n",
    "* Fine tuning a model from existing checkpoint to a new task\n",
    "\n",
    "An example of fine-tuning inception-v3 on flowers.\n",
    "\n",
    "* Evaluating performance of a model\n",
    "\n",
    "To evaluate the performance of a model (whether pretrained or your own), you can use the eval_image_classifier.py script\n",
    "\n",
    "* TF-Slim Walkthrough\n",
    "\n",
    "This notebook will walk you through the basics of using TF-Slim to define, train and evaluate neural networks on various tasks. It assumes a basic knowledge of neural networks.\n",
    "\n",
    "\n",
    "### References:\n",
    "\n",
    "#### New TF2x\n",
    "* [models/research/slim/nets/vgg.py ](https://github.com/tensorflow/models/blob/master/research/slim/nets/vgg.py)\n",
    "* [models/research/slim/nets/vgg_test.py](https://github.com/tensorflow/models/blob/master/research/slim/nets/vgg_test.py)\n",
    "* [tensorflow/models](https://github.com/tensorflow/models/tree/master/research)\n",
    "* [Quick complete Tensorflow tutorial to understand and run Alexnet, VGG, Inceptionv3, Resnet and squeezeNet networks](https://cv-tricks.com/tensorflow-tutorial/understanding-alexnet-resnet-squeezenetand-running-on-tensorflow/)\n",
    "  * *section 2. TensorFlow-slim tutorial*\n",
    "\n",
    "#### Old TF1x\n",
    "* [tf-slim-mnist](https://github.com/mnoukhov/tf-slim-mnist)\n",
    "* [tf-slim-demo](https://github.com/beacandler/tf-slim-demo)\n",
    "* [TensorFlow-Slim image classification model library](https://github.com/tensorflow/models/blob/master/research/slim/README.md)\n",
    "* [111qqz/TF-slim](https://github.com/111qqz/TF-slim)\n",
    "* [SENet-tensorflow-slim](https://github.com/kobiso/SENet-tensorflow-slim)\n",
    "* [CBAM-TensorFlow-Slim](https://github.com/kobiso/CBAM-tensorflow-slim)\n",
    "* [Tensorflow Slim classification tutorial (1): Take Flower dataset as an example](https://www.programmersought.com/article/97583727289/)"
   ]
  },
  {
   "cell_type": "code",
   "execution_count": null,
   "id": "2efbe00c-f82b-4f0e-b408-7cf1950f78d7",
   "metadata": {},
   "outputs": [],
   "source": []
  }
 ],
 "metadata": {
  "kernelspec": {
   "display_name": "tf-slim38",
   "language": "python",
   "name": "tf-slim38"
  },
  "language_info": {
   "codemirror_mode": {
    "name": "ipython",
    "version": 3
   },
   "file_extension": ".py",
   "mimetype": "text/x-python",
   "name": "python",
   "nbconvert_exporter": "python",
   "pygments_lexer": "ipython3",
   "version": "3.8.9"
  }
 },
 "nbformat": 4,
 "nbformat_minor": 5
}
